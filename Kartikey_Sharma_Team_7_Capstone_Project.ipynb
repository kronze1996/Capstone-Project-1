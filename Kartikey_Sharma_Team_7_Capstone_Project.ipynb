{
  "nbformat": 4,
  "nbformat_minor": 0,
  "metadata": {
    "kernelspec": {
      "display_name": "Python 3",
      "language": "python",
      "name": "python3"
    },
    "language_info": {
      "codemirror_mode": {
        "name": "ipython",
        "version": 3
      },
      "file_extension": ".py",
      "mimetype": "text/x-python",
      "name": "python",
      "nbconvert_exporter": "python",
      "pygments_lexer": "ipython3",
      "version": "3.6.6"
    },
    "colab": {
      "name": "Kartikey Sharma - Team 7 - Capstone Project.ipynb",
      "provenance": [],
      "include_colab_link": true
    }
  },
  "cells": [
    {
      "cell_type": "markdown",
      "metadata": {
        "id": "view-in-github",
        "colab_type": "text"
      },
      "source": [
        "<a href=\"https://colab.research.google.com/github/kronze1996/Capstone-Project-1/blob/main/Kartikey_Sharma_Team_7_Capstone_Project.ipynb\" target=\"_parent\"><img src=\"https://colab.research.google.com/assets/colab-badge.svg\" alt=\"Open In Colab\"/></a>"
      ]
    },
    {
      "cell_type": "markdown",
      "metadata": {
        "id": "Y06xIdG26kRF"
      },
      "source": [
        "## <b> The World Bank EdStats All Indicator Query holds over 4,000 internationally comparable indicators that describe education access, progression, completion, literacy, teachers, population, and expenditures.The indicators cover the education cycle from pre-primary to vocational and tertiary education and also holds learning outcome data from international and regional learning assessments (e.g. PISA, TIMSS, PIRLS), equity data from household surveys, and projection/attainment data. </b>\n",
        "\n",
        "## <b> Explore and analyze the data to identify variation of indicators across the globe, which countries are more alike and different. Feel free to add more extensive analyses and details.</b>"
      ]
    },
    {
      "cell_type": "code",
      "metadata": {
        "id": "jbozlqb1ntV9",
        "outputId": "1d478425-855d-4c11-cb0c-e76d3e66b213",
        "colab": {
          "base_uri": "https://localhost:8080/"
        }
      },
      "source": [
        "from google.colab import drive\n",
        "drive.mount('/content/drive')"
      ],
      "execution_count": 1,
      "outputs": [
        {
          "output_type": "stream",
          "text": [
            "Mounted at /content/drive\n"
          ],
          "name": "stdout"
        }
      ]
    },
    {
      "cell_type": "code",
      "metadata": {
        "id": "AYPhtWX5orh4"
      },
      "source": [
        "import pandas as pd\n",
        "import matplotlib.pyplot as plt\n",
        "import seaborn as sns\n",
        "import numpy as np\n"
      ],
      "execution_count": 64,
      "outputs": []
    },
    {
      "cell_type": "code",
      "metadata": {
        "id": "dByMsuzT8Tnw"
      },
      "source": [
        "working_dir_path = '/content/drive/My Drive/AlmaBetter/Cohort Aravali/Module 2/Week 1/Data/'\n",
        "\n",
        "EdStatsData_df = pd.read_csv(working_dir_path + 'Copy of EdStatsData.csv')\n",
        "CountrySeries_df = pd.read_csv(working_dir_path + 'Copy of EdStatsCountry-Series.csv')\n",
        "EdStatSeries_df = pd.read_csv(working_dir_path + 'Copy of EdStatsSeries.csv')\n",
        "EdStatsCountry_df = pd.read_csv(working_dir_path + 'Copy of EdStatsCountry.csv')\n",
        "EdStatsFootNote_df = pd.read_csv(working_dir_path + 'Copy of EdStatsFootNote.csv')"
      ],
      "execution_count": 66,
      "outputs": []
    },
    {
      "cell_type": "code",
      "metadata": {
        "id": "gETYObSemL-q"
      },
      "source": [
        "# EdStatsData_df.info()\n",
        "# CountrySeries_df.info()\n",
        "# EdStatSeries_df.info()\n",
        "# EdStatsCountry_df.info()\n",
        "# EdStatsFootNote_df.info()"
      ],
      "execution_count": 84,
      "outputs": []
    },
    {
      "cell_type": "markdown",
      "metadata": {
        "id": "38wtTVupj9IE"
      },
      "source": [
        "#1. Dropping unnamed and empty columns :"
      ]
    },
    {
      "cell_type": "code",
      "metadata": {
        "id": "85ifOwEk1458"
      },
      "source": [
        "EdStatsData_df.drop(['Unnamed: 69'],axis=1,inplace=True)\n",
        "CountrySeries_df.drop(['Unnamed: 3'],axis=1,inplace=True)\n",
        "EdStatSeries_df.drop(['Unnamed: 20','License Type','Related indicators','Other web links'],axis=1,inplace=True)\n",
        "EdStatsCountry_df.drop(['Unnamed: 31'],axis=1,inplace=True)\n",
        "EdStatsFootNote_df.drop(['Unnamed: 4'],axis=1,inplace=True)"
      ],
      "execution_count": 82,
      "outputs": []
    },
    {
      "cell_type": "markdown",
      "metadata": {
        "id": "DD_zw9sApnJM"
      },
      "source": [
        "#2. Observation for data wrangling:\n",
        "-Total 195 countries (215 given)\n",
        "-"
      ]
    },
    {
      "cell_type": "code",
      "metadata": {
        "id": "e0mnCb4epwvh",
        "outputId": "f50448e1-c031-42b6-f05b-1f8c81c27f25",
        "colab": {
          "base_uri": "https://localhost:8080/",
          "height": 53
        }
      },
      "source": [
        "EdStatsCountry_df[EdStatsCountry_df['Table Name']=='India']['Special Notes'][98]"
      ],
      "execution_count": 96,
      "outputs": [
        {
          "output_type": "execute_result",
          "data": {
            "application/vnd.google.colaboratory.intrinsic+json": {
              "type": "string"
            },
            "text/plain": [
              "'Fiscal year end: March 31; reporting period for national accounts data: FY. April 2013 database update: The India Central Statistical Office revised historical data series both current and constant going back to 1960 with 2004–05 as the base.'"
            ]
          },
          "metadata": {
            "tags": []
          },
          "execution_count": 96
        }
      ]
    },
    {
      "cell_type": "markdown",
      "metadata": {
        "id": "s9nyMS-_00wg"
      },
      "source": [
        "#Summary:\n",
        "1. Fake Columns named (unamed) having zero data (Done) "
      ]
    }
  ]
}